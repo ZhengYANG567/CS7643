{
 "cells": [
  {
   "cell_type": "code",
   "execution_count": 1,
   "id": "93efc3fe",
   "metadata": {},
   "outputs": [
    {
     "name": "stdout",
     "output_type": "stream",
     "text": [
      "Using device: cuda\n"
     ]
    }
   ],
   "source": [
    "import torch\n",
    "import torch.nn as nn\n",
    "from temporal_encoder import Temporal_Encoder\n",
    "from spacial_encoder import Spacial_Encoder\n",
    "from unet_decoder import Unet_Decoder\n",
    "from data_loader import data_loader\n",
    "from torch.utils.data import DataLoader\n",
    "import torch.optim as optim\n",
    "import matplotlib.pyplot as plt\n",
    "import os\n",
    "import pickle\n",
    "from CNN import plot_losses\n",
    "from temporal_spacial_encoder_decoder import *\n",
    "\n",
    "device = torch.device(\"cuda\" if torch.cuda.is_available() else \"cpu\")\n",
    "print(\"Using device:\", device)\n",
    "\n",
    "%load_ext autoreload\n",
    "%autoreload 2"
   ]
  },
  {
   "cell_type": "code",
   "execution_count": 2,
   "id": "cb34cdfe",
   "metadata": {},
   "outputs": [
    {
     "name": "stdout",
     "output_type": "stream",
     "text": [
      "GPU 0: NVIDIA H100 80GB HBM3 (UUID: GPU-bc57b0c0-3768-c846-18d3-56c15c1bf9fc)\r\n"
     ]
    }
   ],
   "source": [
    "!nvidia-smi -L"
   ]
  },
  {
   "cell_type": "code",
   "execution_count": 3,
   "id": "2bc56a5a",
   "metadata": {},
   "outputs": [],
   "source": [
    "# Set paths\n",
    "folder_path = os.path.expanduser(\"~ylu764/scratch\")\n",
    "feature_path = os.path.join(folder_path, \"feature/feature\")  # Replace with your actual path\n",
    "label_path = os.path.join(folder_path, \"label/label\")      # Replace with your actual path\n",
    "\n",
    "# Load data\n",
    "dl = data_loader(feature_path, label_path)\n",
    "dl.check()\n",
    "train_set, valid_set = torch.utils.data.random_split(dl, [int(len(dl)*0.8), len(dl) - int(len(dl)*0.8)])\n",
    "train_loader = torch.utils.data.DataLoader(train_set, batch_size=8, shuffle=True)\n",
    "valid_loader = torch.utils.data.DataLoader(valid_set, batch_size=8, shuffle=False)"
   ]
  },
  {
   "cell_type": "code",
   "execution_count": 4,
   "id": "9c4081ec",
   "metadata": {},
   "outputs": [],
   "source": [
    "temp_config = dict()\n",
    "spacial_config = dict(in_channels=5, base_features=64, num_layers=4, use_skip=True)\n",
    "decoder_config = dict(out_channels=1, base_features=64, num_layers=4)"
   ]
  },
  {
   "cell_type": "code",
   "execution_count": 5,
   "id": "864385aa",
   "metadata": {},
   "outputs": [],
   "source": [
    "model = FullModel(temp_config=temp_config, \n",
    "                  spacial_config=spacial_config,\n",
    "                  decoder_config=decoder_config)\n",
    "model.to(device)\n",
    "criterion = nn.MSELoss()\n",
    "optimizer = optim.Adam(model.parameters(), lr=1e-4)"
   ]
  },
  {
   "cell_type": "code",
   "execution_count": 6,
   "id": "e6d001d8",
   "metadata": {},
   "outputs": [
    {
     "name": "stderr",
     "output_type": "stream",
     "text": [
      "100%|██████████| 1025/1025 [01:35<00:00, 10.78it/s]\n"
     ]
    },
    {
     "name": "stdout",
     "output_type": "stream",
     "text": [
      "[ Train | 001/010 ] loss = 0.024756\n"
     ]
    },
    {
     "name": "stderr",
     "output_type": "stream",
     "text": [
      "100%|██████████| 257/257 [00:15<00:00, 16.35it/s]\n"
     ]
    },
    {
     "name": "stdout",
     "output_type": "stream",
     "text": [
      "[ Valid | 001/010 ] loss = 0.022751\n",
      "[ Valid | 001/010 ] loss = 0.022751 -> best\n",
      "Best model found at epoch 0, saving model\n"
     ]
    },
    {
     "name": "stderr",
     "output_type": "stream",
     "text": [
      "100%|██████████| 1025/1025 [01:33<00:00, 10.97it/s]\n"
     ]
    },
    {
     "name": "stdout",
     "output_type": "stream",
     "text": [
      "[ Train | 002/010 ] loss = 0.013422\n"
     ]
    },
    {
     "name": "stderr",
     "output_type": "stream",
     "text": [
      "100%|██████████| 257/257 [00:15<00:00, 16.75it/s]\n"
     ]
    },
    {
     "name": "stdout",
     "output_type": "stream",
     "text": [
      "[ Valid | 002/010 ] loss = 0.015473\n",
      "[ Valid | 002/010 ] loss = 0.015473 -> best\n",
      "Best model found at epoch 1, saving model\n"
     ]
    },
    {
     "name": "stderr",
     "output_type": "stream",
     "text": [
      "100%|██████████| 1025/1025 [01:32<00:00, 11.02it/s]\n"
     ]
    },
    {
     "name": "stdout",
     "output_type": "stream",
     "text": [
      "[ Train | 003/010 ] loss = 0.011095\n"
     ]
    },
    {
     "name": "stderr",
     "output_type": "stream",
     "text": [
      "100%|██████████| 257/257 [00:15<00:00, 16.80it/s]\n"
     ]
    },
    {
     "name": "stdout",
     "output_type": "stream",
     "text": [
      "[ Valid | 003/010 ] loss = 0.012154\n",
      "[ Valid | 003/010 ] loss = 0.012154 -> best\n",
      "Best model found at epoch 2, saving model\n"
     ]
    },
    {
     "name": "stderr",
     "output_type": "stream",
     "text": [
      "100%|██████████| 1025/1025 [01:32<00:00, 11.04it/s]\n"
     ]
    },
    {
     "name": "stdout",
     "output_type": "stream",
     "text": [
      "[ Train | 004/010 ] loss = 0.010257\n"
     ]
    },
    {
     "name": "stderr",
     "output_type": "stream",
     "text": [
      "100%|██████████| 257/257 [00:15<00:00, 16.41it/s]\n"
     ]
    },
    {
     "name": "stdout",
     "output_type": "stream",
     "text": [
      "[ Valid | 004/010 ] loss = 0.073287\n",
      "[ Valid | 004/010 ] loss = 0.073287\n"
     ]
    },
    {
     "name": "stderr",
     "output_type": "stream",
     "text": [
      "100%|██████████| 1025/1025 [01:33<00:00, 10.91it/s]\n"
     ]
    },
    {
     "name": "stdout",
     "output_type": "stream",
     "text": [
      "[ Train | 005/010 ] loss = 0.0096512\n"
     ]
    },
    {
     "name": "stderr",
     "output_type": "stream",
     "text": [
      "100%|██████████| 257/257 [00:15<00:00, 16.79it/s]\n"
     ]
    },
    {
     "name": "stdout",
     "output_type": "stream",
     "text": [
      "[ Valid | 005/010 ] loss = 0.048664\n",
      "[ Valid | 005/010 ] loss = 0.048664\n"
     ]
    },
    {
     "name": "stderr",
     "output_type": "stream",
     "text": [
      "100%|██████████| 1025/1025 [01:33<00:00, 11.00it/s]\n"
     ]
    },
    {
     "name": "stdout",
     "output_type": "stream",
     "text": [
      "[ Train | 006/010 ] loss = 0.0086243\n"
     ]
    },
    {
     "name": "stderr",
     "output_type": "stream",
     "text": [
      "100%|██████████| 257/257 [00:15<00:00, 16.33it/s]\n"
     ]
    },
    {
     "name": "stdout",
     "output_type": "stream",
     "text": [
      "[ Valid | 006/010 ] loss = 0.0087761\n",
      "[ Valid | 006/010 ] loss = 0.0087761 -> best\n",
      "Best model found at epoch 5, saving model\n"
     ]
    },
    {
     "name": "stderr",
     "output_type": "stream",
     "text": [
      "100%|██████████| 1025/1025 [01:33<00:00, 10.96it/s]\n"
     ]
    },
    {
     "name": "stdout",
     "output_type": "stream",
     "text": [
      "[ Train | 007/010 ] loss = 0.0083038\n"
     ]
    },
    {
     "name": "stderr",
     "output_type": "stream",
     "text": [
      "100%|██████████| 257/257 [00:15<00:00, 16.37it/s]\n"
     ]
    },
    {
     "name": "stdout",
     "output_type": "stream",
     "text": [
      "[ Valid | 007/010 ] loss = 0.0080736\n",
      "[ Valid | 007/010 ] loss = 0.0080736 -> best\n",
      "Best model found at epoch 6, saving model\n"
     ]
    },
    {
     "name": "stderr",
     "output_type": "stream",
     "text": [
      "100%|██████████| 1025/1025 [01:34<00:00, 10.83it/s]\n"
     ]
    },
    {
     "name": "stdout",
     "output_type": "stream",
     "text": [
      "[ Train | 008/010 ] loss = 0.0069255\n"
     ]
    },
    {
     "name": "stderr",
     "output_type": "stream",
     "text": [
      "100%|██████████| 257/257 [00:15<00:00, 16.58it/s]\n"
     ]
    },
    {
     "name": "stdout",
     "output_type": "stream",
     "text": [
      "[ Valid | 008/010 ] loss = 0.024892\n",
      "[ Valid | 008/010 ] loss = 0.024892\n"
     ]
    },
    {
     "name": "stderr",
     "output_type": "stream",
     "text": [
      "100%|██████████| 1025/1025 [01:34<00:00, 10.90it/s]\n"
     ]
    },
    {
     "name": "stdout",
     "output_type": "stream",
     "text": [
      "[ Train | 009/010 ] loss = 0.0089045\n"
     ]
    },
    {
     "name": "stderr",
     "output_type": "stream",
     "text": [
      "100%|██████████| 257/257 [00:15<00:00, 16.33it/s]\n"
     ]
    },
    {
     "name": "stdout",
     "output_type": "stream",
     "text": [
      "[ Valid | 009/010 ] loss = 0.0073974\n",
      "[ Valid | 009/010 ] loss = 0.0073974 -> best\n",
      "Best model found at epoch 8, saving model\n"
     ]
    },
    {
     "name": "stderr",
     "output_type": "stream",
     "text": [
      "100%|██████████| 1025/1025 [01:33<00:00, 10.97it/s]\n"
     ]
    },
    {
     "name": "stdout",
     "output_type": "stream",
     "text": [
      "[ Train | 010/010 ] loss = 0.0062327\n"
     ]
    },
    {
     "name": "stderr",
     "output_type": "stream",
     "text": [
      "100%|██████████| 257/257 [00:15<00:00, 16.48it/s]\n"
     ]
    },
    {
     "name": "stdout",
     "output_type": "stream",
     "text": [
      "[ Valid | 010/010 ] loss = 0.006786\n",
      "[ Valid | 010/010 ] loss = 0.006786 -> best\n",
      "Best model found at epoch 9, saving model\n"
     ]
    },
    {
     "data": {
      "image/png": "[encoded data removed]",
      "text/plain": [
       "<Figure size 1000x500 with 1 Axes>"
      ]
     },
     "metadata": {},
     "output_type": "display_data"
    }
   ],
   "source": [
    "train_losses, valid_losses = train_temporal_spacial_model(model, \n",
    "                                                          optimizer, \n",
    "                                                          train_loader, \n",
    "                                                          valid_loader, \n",
    "                                                          n_epochs=10,\n",
    "                                                          patience=10, \n",
    "                                                          criterion=criterion, \n",
    "                                                          prefix=\"TemporalSpacial\")\n",
    "plot_losses(train_losses, valid_losses)"
   ]
  },
  {
   "cell_type": "code",
   "execution_count": 7,
   "id": "8bf12e39",
   "metadata": {},
   "outputs": [
    {
     "name": "stdout",
     "output_type": "stream",
     "text": [
      "Total Trainable Parameters: 117133889\n",
      "Best Validation MSE Loss: 0.00679\n"
     ]
    }
   ],
   "source": [
    "# Print final statistics\n",
    "total_params = sum(p.numel() for p in model.parameters() if p.requires_grad)\n",
    "print(f\"Total Trainable Parameters: {total_params}\")\n",
    "print(f\"Best Validation MSE Loss: {min(valid_losses):.5f}\")"
   ]
  }
 ],
 "metadata": {
  "kernelspec": {
   "display_name": "Python 3 (ipykernel)",
   "language": "python",
   "name": "python3"
  },
  "language_info": {
   "codemirror_mode": {
    "name": "ipython",
    "version": 3
   },
   "file_extension": ".py",
   "mimetype": "text/x-python",
   "name": "python",
   "nbconvert_exporter": "python",
   "pygments_lexer": "ipython3",
   "version": "3.12.11"
  }
 },
 "nbformat": 4,
 "nbformat_minor": 5
}
